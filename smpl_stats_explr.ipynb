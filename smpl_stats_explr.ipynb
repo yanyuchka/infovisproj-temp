{
 "metadata": {
  "name": "",
  "signature": "sha256:54173a58fa1c462e85fac3121bdf781b76ef97f96839c0ad5ede3602ce29df13"
 },
 "nbformat": 3,
 "nbformat_minor": 0,
 "worksheets": [
  {
   "cells": [
    {
     "cell_type": "code",
     "collapsed": false,
     "input": [
      "# this ipython notebook might be used for simple statistics exploration, if needed \n",
      "\n",
      "import pandas as pd\n",
      "pd.set_option('display.mpl_style', 'default')\n",
      "pd.set_option('display.width', 5000) \n",
      "pd.set_option('display.max_columns', 60)\n",
      "import numpy as np\n",
      "import os"
     ],
     "language": "python",
     "metadata": {},
     "outputs": [],
     "prompt_number": 8
    },
    {
     "cell_type": "code",
     "collapsed": false,
     "input": [
      "dpath = \"./\"\n",
      "df = pd.read_csv(os.path.join(dpath,'data','150days_crashdata.csv'))\n",
      "df.columns"
     ],
     "language": "python",
     "metadata": {},
     "outputs": [
      {
       "metadata": {},
       "output_type": "pyout",
       "prompt_number": 9,
       "text": [
        "Index([u'DATE', u'TIME', u'BOROUGH', u'ZIP_CODE', u'LATITUDE', u'LONGITUDE', u'LOCATION', u'ON_STREET_NAME', u'CROSS_STREET_NAME', u'OFF_STREET_NAME', u'NUMBER_OF_PERSONS_INJURED', u'NUMBER_OF_PERSONS_KILLED', u'NUMBER_OF_PEDESTRIANS_INJURED', u'NUMBER_OF_PEDESTRIANS_KILLED', u'NUMBER_OF_CYCLIST_INJURED', u'NUMBER_OF_CYCLIST_KILLED', u'NUMBER_OF_MOTORIST_INJURED', u'NUMBER_OF_MOTORIST_KILLED', u'CONTRIBUTING_FACTOR_VEHICLE_1', u'CONTRIBUTING_FACTOR_VEHICLE_2', u'CONTRIBUTING_FACTOR_VEHICLE_3', u'CONTRIBUTING_FACTOR_VEHICLE_4', u'CONTRIBUTING_FACTOR_VEHICLE_5', u'UNIQUE_KEY', u'VEHICLE_TYPE_CODE_1', u'VEHICLE_TYPE_CODE_2', u'VEHICLE_TYPE_CODE_3', u'VEHICLE_TYPE_CODE_4', u'VEHICLE_TYPE_CODE_5'], dtype='object')"
       ]
      }
     ],
     "prompt_number": 9
    },
    {
     "cell_type": "code",
     "collapsed": false,
     "input": [
      "df.groupby('CONTRIBUTING_FACTOR_VEHICLE_1')['CONTRIBUTING_FACTOR_VEHICLE_1'].count()"
     ],
     "language": "python",
     "metadata": {},
     "outputs": [
      {
       "metadata": {},
       "output_type": "pyout",
       "prompt_number": 10,
       "text": [
        "CONTRIBUTING_FACTOR_VEHICLE_1\n",
        "Accelerator Defective                                       40\n",
        "Aggressive Driving/Road Rage                               265\n",
        "Alcohol Involvement                                        675\n",
        "Animals Action                                              46\n",
        "Backing Unsafely                                          2499\n",
        "Brakes Defective                                           206\n",
        "Cell Phone (hand-held)                                       7\n",
        "Cell Phone (hands-free)                                     11\n",
        "Driver Inattention/Distraction                           10458\n",
        "Driver Inexperience                                        997\n",
        "Drugs (Illegal)                                             43\n",
        "Failure to Keep Right                                      158\n",
        "Failure to Yield Right-of-Way                             3938\n",
        "Fatigued/Drowsy                                           5092\n",
        "Fell Asleep                                                101\n",
        "Following Too Closely                                       42\n",
        "Glare                                                      220\n",
        "Headlights Defective                                         6\n",
        "Illness                                                    223\n",
        "Lane Marking Improper/Inadequate                            45\n",
        "Lost Consciousness                                        2205\n",
        "Obstruction/Debris                                         149\n",
        "Other Electronic Device                                    254\n",
        "Other Lighting Defects                                      11\n",
        "Other Vehicular                                           3859\n",
        "Outside Car Distraction                                    968\n",
        "Oversized Vehicle                                          563\n",
        "Passenger Distraction                                      359\n",
        "Passing or Lane Usage Improper                              26\n",
        "Pavement Defective                                         104\n",
        "Pavement Slippery                                         2512\n",
        "Pedestrian/Bicyclist/Other Pedestrian Error/Confusion       10\n",
        "Physical Disability                                        944\n",
        "Prescription Medication                                   1544\n",
        "Reaction to Other Uninvolved Vehicle                       139\n",
        "Shoulders Defective/Improper                                 3\n",
        "Steering Failure                                            79\n",
        "Tire Failure/Inadequate                                     70\n",
        "Tow Hitch Defective                                          6\n",
        "Traffic Control Device Improper/Non-Working                 37\n",
        "Traffic Control Disregarded                               1173\n",
        "Turning Improperly                                        2288\n",
        "Unsafe Lane Changing                                        24\n",
        "Unsafe Speed                                               100\n",
        "Unspecified                                              37653\n",
        "View Obstructed/Limited                                    315\n",
        "Windshield Inadequate                                        5\n",
        "Name: CONTRIBUTING_FACTOR_VEHICLE_1, dtype: int64"
       ]
      }
     ],
     "prompt_number": 10
    },
    {
     "cell_type": "code",
     "collapsed": false,
     "input": [
      "df.groupby('CONTRIBUTING_FACTOR_VEHICLE_2')['CONTRIBUTING_FACTOR_VEHICLE_2'].count()"
     ],
     "language": "python",
     "metadata": {},
     "outputs": [
      {
       "metadata": {},
       "output_type": "pyout",
       "prompt_number": 11,
       "text": [
        "CONTRIBUTING_FACTOR_VEHICLE_2\n",
        "Accelerator Defective                                        5\n",
        "Aggressive Driving/Road Rage                                65\n",
        "Alcohol Involvement                                         87\n",
        "Animals Action                                               6\n",
        "Backing Unsafely                                           407\n",
        "Brakes Defective                                            27\n",
        "Cell Phone (hand-held)                                       1\n",
        "Cell Phone (hands-free)                                      1\n",
        "Driver Inattention/Distraction                            3220\n",
        "Driver Inexperience                                        376\n",
        "Drugs (Illegal)                                             11\n",
        "Failure to Keep Right                                       29\n",
        "Failure to Yield Right-of-Way                              800\n",
        "Fatigued/Drowsy                                           1376\n",
        "Fell Asleep                                                 42\n",
        "Following Too Closely                                        7\n",
        "Glare                                                       31\n",
        "Headlights Defective                                         6\n",
        "Illness                                                     56\n",
        "Lane Marking Improper/Inadequate                            27\n",
        "Lost Consciousness                                         651\n",
        "Obstruction/Debris                                          30\n",
        "Other Electronic Device                                     80\n",
        "Other Lighting Defects                                       3\n",
        "Other Vehicular                                           2452\n",
        "Outside Car Distraction                                    232\n",
        "Oversized Vehicle                                          125\n",
        "Passenger Distraction                                       78\n",
        "Passing or Lane Usage Improper                               6\n",
        "Pavement Defective                                          15\n",
        "Pavement Slippery                                          605\n",
        "Pedestrian/Bicyclist/Other Pedestrian Error/Confusion        1\n",
        "Physical Disability                                        252\n",
        "Prescription Medication                                    389\n",
        "Reaction to Other Uninvolved Vehicle                        44\n",
        "Steering Failure                                             5\n",
        "Tire Failure/Inadequate                                      5\n",
        "Traffic Control Device Improper/Non-Working                 25\n",
        "Traffic Control Disregarded                                367\n",
        "Turning Improperly                                         610\n",
        "Unsafe Lane Changing                                         3\n",
        "Unsafe Speed                                                21\n",
        "Unspecified                                              57624\n",
        "View Obstructed/Limited                                     95\n",
        "Name: CONTRIBUTING_FACTOR_VEHICLE_2, dtype: int64"
       ]
      }
     ],
     "prompt_number": 11
    },
    {
     "cell_type": "code",
     "collapsed": false,
     "input": [
      "df.groupby('VEHICLE_TYPE_CODE_1')['VEHICLE_TYPE_CODE_1'].count()"
     ],
     "language": "python",
     "metadata": {},
     "outputs": [
      {
       "metadata": {},
       "output_type": "pyout",
       "prompt_number": 12,
       "text": [
        "VEHICLE_TYPE_CODE_1\n",
        "AMBULANCE                           246\n",
        "BICYCLE                              45\n",
        "BUS                                1472\n",
        "FIRE TRUCK                           90\n",
        "LARGE COM VEH(6 OR MORE TIRES)     1547\n",
        "LIVERY VEHICLE                     1167\n",
        "MOTORCYCLE                          148\n",
        "OTHER                              2566\n",
        "PASSENGER VEHICLE                 42385\n",
        "PEDICAB                               1\n",
        "PICK-UP TRUCK                      1216\n",
        "SCOOTER                              21\n",
        "SMALL COM VEH(4 TIRES)             1332\n",
        "SPORT UTILITY / STATION WAGON     20098\n",
        "TAXI                               3348\n",
        "UNKNOWN                            2277\n",
        "VAN                                2658\n",
        "Name: VEHICLE_TYPE_CODE_1, dtype: int64"
       ]
      }
     ],
     "prompt_number": 12
    },
    {
     "cell_type": "code",
     "collapsed": false,
     "input": [
      "df.groupby('VEHICLE_TYPE_CODE_2')['VEHICLE_TYPE_CODE_2'].count()"
     ],
     "language": "python",
     "metadata": {},
     "outputs": [
      {
       "metadata": {},
       "output_type": "pyout",
       "prompt_number": 13,
       "text": [
        "VEHICLE_TYPE_CODE_2\n",
        "AMBULANCE                           124\n",
        "BICYCLE                             960\n",
        "BUS                                1308\n",
        "FIRE TRUCK                           50\n",
        "LARGE COM VEH(6 OR MORE TIRES)     1441\n",
        "LIVERY VEHICLE                      853\n",
        "MOTORCYCLE                          146\n",
        "OTHER                              2423\n",
        "PASSENGER VEHICLE                 31924\n",
        "PEDICAB                               3\n",
        "PICK-UP TRUCK                      1109\n",
        "SCOOTER                              15\n",
        "SMALL COM VEH(4 TIRES)             1377\n",
        "SPORT UTILITY / STATION WAGON     15414\n",
        "TAXI                               2899\n",
        "UNKNOWN                            8929\n",
        "VAN                                2354\n",
        "Name: VEHICLE_TYPE_CODE_2, dtype: int64"
       ]
      }
     ],
     "prompt_number": 13
    },
    {
     "cell_type": "code",
     "collapsed": false,
     "input": [
      "#normilize by square at least; population\n",
      "byboro = df.groupby('BOROUGH')\n",
      "byboro['NUMBER_OF_PERSONS_INJURED'].count()"
     ],
     "language": "python",
     "metadata": {},
     "outputs": [
      {
       "metadata": {},
       "output_type": "pyout",
       "prompt_number": 14,
       "text": [
        "BOROUGH\n",
        "BRONX             7860\n",
        "BROOKLYN         18849\n",
        "MANHATTAN        15230\n",
        "QUEENS           16118\n",
        "STATEN ISLAND     2388\n",
        "Name: NUMBER_OF_PERSONS_INJURED, dtype: int64"
       ]
      }
     ],
     "prompt_number": 14
    },
    {
     "cell_type": "code",
     "collapsed": false,
     "input": [
      "byboro['NUMBER_OF_PERSONS_KILLED'].count()"
     ],
     "language": "python",
     "metadata": {},
     "outputs": [
      {
       "metadata": {},
       "output_type": "pyout",
       "prompt_number": 15,
       "text": [
        "BOROUGH\n",
        "BRONX             7860\n",
        "BROOKLYN         18849\n",
        "MANHATTAN        15230\n",
        "QUEENS           16118\n",
        "STATEN ISLAND     2388\n",
        "Name: NUMBER_OF_PERSONS_KILLED, dtype: int64"
       ]
      }
     ],
     "prompt_number": 15
    },
    {
     "cell_type": "code",
     "collapsed": false,
     "input": [
      "#normilize by length at least; traffic\n",
      "byonstreet = df.groupby('ON_STREET_NAME')\n",
      "byonstreet['NUMBER_OF_PERSONS_INJURED'].count()"
     ],
     "language": "python",
     "metadata": {},
     "outputs": [
      {
       "metadata": {},
       "output_type": "pyout",
       "prompt_number": 16,
       "text": [
        "ON_STREET_NAME\n",
        "1 AVENUE          275\n",
        "1 PLACE             1\n",
        "1 STREET           11\n",
        "10 AVENUE         358\n",
        "10 STREET          12\n",
        "100 AVENUE          5\n",
        "100 DRIVE           1\n",
        "100 STREET         21\n",
        "101 AVENUE         89\n",
        "101 ROAD            1\n",
        "101 STREET         19\n",
        "102 AVENUE         10\n",
        "102 STREET         34\n",
        "103 AVENUE         55\n",
        "103 ROAD            1\n",
        "...\n",
        "WYCKOFF AVENUE           35\n",
        "WYCKOFF STREET            6\n",
        "WYONA STREET              5\n",
        "WYTHE AVENUE             50\n",
        "WYTHE PLACE               6\n",
        "XENIA STREET              1\n",
        "YATES AVENUE              5\n",
        "YELLOWSTONE BOULEVARD    47\n",
        "YORK AVENUE              89\n",
        "YORK STREET               5\n",
        "YOUNG AVENUE              2\n",
        "ZEISER PLACE              2\n",
        "ZEREGA AVENUE            28\n",
        "ZOE STREET                2\n",
        "ZULETTE AVENUE            5\n",
        "Name: NUMBER_OF_PERSONS_INJURED, Length: 4241, dtype: int64"
       ]
      }
     ],
     "prompt_number": 16
    },
    {
     "cell_type": "code",
     "collapsed": false,
     "input": [
      "byonstreet['NUMBER_OF_PERSONS_KILLED'].count()"
     ],
     "language": "python",
     "metadata": {},
     "outputs": [
      {
       "metadata": {},
       "output_type": "pyout",
       "prompt_number": 17,
       "text": [
        "ON_STREET_NAME\n",
        "1 AVENUE          275\n",
        "1 PLACE             1\n",
        "1 STREET           11\n",
        "10 AVENUE         358\n",
        "10 STREET          12\n",
        "100 AVENUE          5\n",
        "100 DRIVE           1\n",
        "100 STREET         21\n",
        "101 AVENUE         89\n",
        "101 ROAD            1\n",
        "101 STREET         19\n",
        "102 AVENUE         10\n",
        "102 STREET         34\n",
        "103 AVENUE         55\n",
        "103 ROAD            1\n",
        "...\n",
        "WYCKOFF AVENUE           35\n",
        "WYCKOFF STREET            6\n",
        "WYONA STREET              5\n",
        "WYTHE AVENUE             50\n",
        "WYTHE PLACE               6\n",
        "XENIA STREET              1\n",
        "YATES AVENUE              5\n",
        "YELLOWSTONE BOULEVARD    47\n",
        "YORK AVENUE              89\n",
        "YORK STREET               5\n",
        "YOUNG AVENUE              2\n",
        "ZEISER PLACE              2\n",
        "ZEREGA AVENUE            28\n",
        "ZOE STREET                2\n",
        "ZULETTE AVENUE            5\n",
        "Name: NUMBER_OF_PERSONS_KILLED, Length: 4241, dtype: int64"
       ]
      }
     ],
     "prompt_number": 17
    },
    {
     "cell_type": "code",
     "collapsed": false,
     "input": [
      "byboro_veh1 = df.groupby(['BOROUGH','VEHICLE_TYPE_CODE_1'])\n",
      "byboro_veh1['NUMBER_OF_PERSONS_INJURED'].count()[['BRONX','BROOKLYN']]"
     ],
     "language": "python",
     "metadata": {},
     "outputs": [
      {
       "metadata": {},
       "output_type": "pyout",
       "prompt_number": 18,
       "text": [
        "BOROUGH   VEHICLE_TYPE_CODE_1           \n",
        "BRONX     AMBULANCE                            56\n",
        "          BICYCLE                               6\n",
        "          BUS                                 173\n",
        "          FIRE TRUCK                            9\n",
        "          LARGE COM VEH(6 OR MORE TIRES)      118\n",
        "          LIVERY VEHICLE                      188\n",
        "          MOTORCYCLE                            8\n",
        "          OTHER                               398\n",
        "          PASSENGER VEHICLE                  4287\n",
        "          PICK-UP TRUCK                        78\n",
        "          SCOOTER                               1\n",
        "          SMALL COM VEH(4 TIRES)              112\n",
        "          SPORT UTILITY / STATION WAGON      1721\n",
        "          TAXI                                114\n",
        "          UNKNOWN                             372\n",
        "          VAN                                 213\n",
        "BROOKLYN  AMBULANCE                            60\n",
        "          BICYCLE                              11\n",
        "          BUS                                 361\n",
        "          FIRE TRUCK                           27\n",
        "          LARGE COM VEH(6 OR MORE TIRES)      301\n",
        "          LIVERY VEHICLE                      155\n",
        "          MOTORCYCLE                           32\n",
        "          OTHER                               707\n",
        "          PASSENGER VEHICLE                 10331\n",
        "          PICK-UP TRUCK                       225\n",
        "          SCOOTER                               6\n",
        "          SMALL COM VEH(4 TIRES)              301\n",
        "          SPORT UTILITY / STATION WAGON      4852\n",
        "          TAXI                                272\n",
        "          UNKNOWN                             562\n",
        "          VAN                                 626\n",
        "Name: NUMBER_OF_PERSONS_INJURED, dtype: int64"
       ]
      }
     ],
     "prompt_number": 18
    },
    {
     "cell_type": "code",
     "collapsed": false,
     "input": [
      "byboro_veh1['NUMBER_OF_PERSONS_INJURED'].count()[['MANHATTAN','STATEN ISLAND']]"
     ],
     "language": "python",
     "metadata": {},
     "outputs": [
      {
       "metadata": {},
       "output_type": "pyout",
       "prompt_number": 19,
       "text": [
        "BOROUGH        VEHICLE_TYPE_CODE_1           \n",
        "MANHATTAN      AMBULANCE                           59\n",
        "               BICYCLE                             18\n",
        "               BUS                                426\n",
        "               FIRE TRUCK                          17\n",
        "               LARGE COM VEH(6 OR MORE TIRES)     388\n",
        "               LIVERY VEHICLE                     442\n",
        "               MOTORCYCLE                          47\n",
        "               OTHER                              574\n",
        "               PASSENGER VEHICLE                 5914\n",
        "               PEDICAB                              1\n",
        "               PICK-UP TRUCK                      349\n",
        "               SCOOTER                              8\n",
        "               SMALL COM VEH(4 TIRES)             447\n",
        "               SPORT UTILITY / STATION WAGON     3085\n",
        "               TAXI                              2263\n",
        "               UNKNOWN                            318\n",
        "               VAN                                833\n",
        "STATEN ISLAND  AMBULANCE                            2\n",
        "               BUS                                 26\n",
        "               FIRE TRUCK                           4\n",
        "               LARGE COM VEH(6 OR MORE TIRES)       3\n",
        "               LIVERY VEHICLE                       3\n",
        "               MOTORCYCLE                           4\n",
        "               OTHER                               55\n",
        "               PASSENGER VEHICLE                 1252\n",
        "               PICK-UP TRUCK                       61\n",
        "               SMALL COM VEH(4 TIRES)               6\n",
        "               SPORT UTILITY / STATION WAGON      857\n",
        "               TAXI                                 1\n",
        "               UNKNOWN                             67\n",
        "               VAN                                 47\n",
        "Name: NUMBER_OF_PERSONS_INJURED, dtype: int64"
       ]
      }
     ],
     "prompt_number": 19
    },
    {
     "cell_type": "code",
     "collapsed": false,
     "input": [
      "byboro_veh1['NUMBER_OF_PERSONS_INJURED'].count()[['QUEENS']]"
     ],
     "language": "python",
     "metadata": {},
     "outputs": [
      {
       "metadata": {},
       "output_type": "pyout",
       "prompt_number": 20,
       "text": [
        "BOROUGH  VEHICLE_TYPE_CODE_1           \n",
        "QUEENS   AMBULANCE                           29\n",
        "         BICYCLE                              8\n",
        "         BUS                                244\n",
        "         FIRE TRUCK                          16\n",
        "         LARGE COM VEH(6 OR MORE TIRES)     261\n",
        "         LIVERY VEHICLE                     132\n",
        "         MOTORCYCLE                          26\n",
        "         OTHER                              296\n",
        "         PASSENGER VEHICLE                 9178\n",
        "         PICK-UP TRUCK                      190\n",
        "         SCOOTER                              2\n",
        "         SMALL COM VEH(4 TIRES)             213\n",
        "         SPORT UTILITY / STATION WAGON     4362\n",
        "         TAXI                               210\n",
        "         UNKNOWN                            549\n",
        "         VAN                                399\n",
        "Name: NUMBER_OF_PERSONS_INJURED, dtype: int64"
       ]
      }
     ],
     "prompt_number": 20
    },
    {
     "cell_type": "code",
     "collapsed": false,
     "input": [],
     "language": "python",
     "metadata": {},
     "outputs": [],
     "prompt_number": 20
    }
   ],
   "metadata": {}
  }
 ]
}