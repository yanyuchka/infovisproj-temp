{
 "metadata": {
  "name": "",
  "signature": "sha256:1af8b0b318b0a8e86dbb2af99aead9a1ae36c815d5b028cbc58b8f6a9b4d230b"
 },
 "nbformat": 3,
 "nbformat_minor": 0,
 "worksheets": [
  {
   "cells": [
    {
     "cell_type": "code",
     "collapsed": false,
     "input": [
      "# this ipython notebook might be used for simple statistics exploration, if needed \n",
      "\n",
      "import pandas as pd\n",
      "pd.set_option('display.mpl_style', 'default')\n",
      "pd.set_option('display.width', 5000) \n",
      "pd.set_option('display.max_columns', 60)\n",
      "import numpy as np\n",
      "import os"
     ],
     "language": "python",
     "metadata": {},
     "outputs": [],
     "prompt_number": 7
    },
    {
     "cell_type": "code",
     "collapsed": false,
     "input": [
      "dpath = \"./\"\n",
      "df = pd.read_csv(os.path.join(dpath,'data','150days_crashdata.csv'))\n",
      "df.columns"
     ],
     "language": "python",
     "metadata": {},
     "outputs": [
      {
       "metadata": {},
       "output_type": "pyout",
       "prompt_number": 8,
       "text": [
        "Index([u'DATE', u'TIME', u'BOROUGH', u'ZIP CODE', u'LATITUDE', u'LONGITUDE', u'LOCATION', u'ON STREET NAME', u'CROSS STREET NAME', u'OFF STREET NAME', u'NUMBER OF PERSONS INJURED', u'NUMBER OF PERSONS KILLED', u'NUMBER OF PEDESTRIANS INJURED', u'NUMBER OF PEDESTRIANS KILLED', u'NUMBER OF CYCLIST INJURED', u'NUMBER OF CYCLIST KILLED', u'NUMBER OF MOTORIST INJURED', u'NUMBER OF MOTORIST KILLED', u'CONTRIBUTING FACTOR VEHICLE 1', u'CONTRIBUTING FACTOR VEHICLE 2', u'CONTRIBUTING FACTOR VEHICLE 3', u'CONTRIBUTING FACTOR VEHICLE 4', u'CONTRIBUTING FACTOR VEHICLE 5', u'UNIQUE KEY', u'VEHICLE TYPE CODE 1', u'VEHICLE TYPE CODE 2', u'VEHICLE TYPE CODE 3', u'VEHICLE TYPE CODE 4', u'VEHICLE TYPE CODE 5'], dtype='object')"
       ]
      }
     ],
     "prompt_number": 8
    },
    {
     "cell_type": "code",
     "collapsed": false,
     "input": [
      "df.groupby('CONTRIBUTING FACTOR VEHICLE 1')['CONTRIBUTING FACTOR VEHICLE 1'].count()"
     ],
     "language": "python",
     "metadata": {},
     "outputs": [
      {
       "metadata": {},
       "output_type": "pyout",
       "prompt_number": 9,
       "text": [
        "CONTRIBUTING FACTOR VEHICLE 1\n",
        "Accelerator Defective                                       40\n",
        "Aggressive Driving/Road Rage                               263\n",
        "Alcohol Involvement                                        672\n",
        "Animals Action                                              45\n",
        "Backing Unsafely                                          2481\n",
        "Brakes Defective                                           207\n",
        "Cell Phone (hand-held)                                       8\n",
        "Cell Phone (hands-free)                                     13\n",
        "Driver Inattention/Distraction                           10450\n",
        "Driver Inexperience                                        991\n",
        "Drugs (Illegal)                                             41\n",
        "Failure to Keep Right                                      161\n",
        "Failure to Yield Right-of-Way                             3920\n",
        "Fatigued/Drowsy                                           5082\n",
        "Fell Asleep                                                105\n",
        "Following Too Closely                                       40\n",
        "Glare                                                      218\n",
        "Headlights Defective                                         6\n",
        "Illness                                                    216\n",
        "Lane Marking Improper/Inadequate                            45\n",
        "Lost Consciousness                                        2180\n",
        "Obstruction/Debris                                         154\n",
        "Other Electronic Device                                    253\n",
        "Other Lighting Defects                                      10\n",
        "Other Vehicular                                           3864\n",
        "Outside Car Distraction                                    969\n",
        "Oversized Vehicle                                          579\n",
        "Passenger Distraction                                      365\n",
        "Passing or Lane Usage Improper                              24\n",
        "Pavement Defective                                          97\n",
        "Pavement Slippery                                         2468\n",
        "Pedestrian/Bicyclist/Other Pedestrian Error/Confusion       10\n",
        "Physical Disability                                        941\n",
        "Prescription Medication                                   1551\n",
        "Reaction to Other Uninvolved Vehicle                       143\n",
        "Shoulders Defective/Improper                                 3\n",
        "Steering Failure                                            83\n",
        "Tire Failure/Inadequate                                     73\n",
        "Tow Hitch Defective                                          6\n",
        "Traffic Control Device Improper/Non-Working                 37\n",
        "Traffic Control Disregarded                               1170\n",
        "Turning Improperly                                        2277\n",
        "Unsafe Lane Changing                                        25\n",
        "Unsafe Speed                                               100\n",
        "Unspecified                                              38036\n",
        "View Obstructed/Limited                                    314\n",
        "Windshield Inadequate                                        5\n",
        "Name: CONTRIBUTING FACTOR VEHICLE 1, dtype: int64"
       ]
      }
     ],
     "prompt_number": 9
    },
    {
     "cell_type": "code",
     "collapsed": false,
     "input": [
      "df.groupby('CONTRIBUTING FACTOR VEHICLE 2')['CONTRIBUTING FACTOR VEHICLE 2'].count()"
     ],
     "language": "python",
     "metadata": {},
     "outputs": [
      {
       "metadata": {},
       "output_type": "pyout",
       "prompt_number": 10,
       "text": [
        "CONTRIBUTING FACTOR VEHICLE 2\n",
        "Accelerator Defective                                        5\n",
        "Aggressive Driving/Road Rage                                71\n",
        "Alcohol Involvement                                         85\n",
        "Animals Action                                               6\n",
        "Backing Unsafely                                           410\n",
        "Brakes Defective                                            28\n",
        "Cell Phone (hand-held)                                       2\n",
        "Cell Phone (hands-free)                                      2\n",
        "Driver Inattention/Distraction                            3210\n",
        "Driver Inexperience                                        387\n",
        "Drugs (Illegal)                                             11\n",
        "Failure to Keep Right                                       28\n",
        "Failure to Yield Right-of-Way                              808\n",
        "Fatigued/Drowsy                                           1373\n",
        "Fell Asleep                                                 42\n",
        "Following Too Closely                                        7\n",
        "Glare                                                       31\n",
        "Headlights Defective                                         6\n",
        "Illness                                                     53\n",
        "Lane Marking Improper/Inadequate                            25\n",
        "Lost Consciousness                                         639\n",
        "Obstruction/Debris                                          31\n",
        "Other Electronic Device                                     79\n",
        "Other Lighting Defects                                       3\n",
        "Other Vehicular                                           2440\n",
        "Outside Car Distraction                                    225\n",
        "Oversized Vehicle                                          122\n",
        "Passenger Distraction                                       79\n",
        "Passing or Lane Usage Improper                               5\n",
        "Pavement Defective                                          13\n",
        "Pavement Slippery                                          597\n",
        "Pedestrian/Bicyclist/Other Pedestrian Error/Confusion        1\n",
        "Physical Disability                                        250\n",
        "Prescription Medication                                    391\n",
        "Reaction to Other Uninvolved Vehicle                        45\n",
        "Steering Failure                                             7\n",
        "Tire Failure/Inadequate                                      5\n",
        "Traffic Control Device Improper/Non-Working                 24\n",
        "Traffic Control Disregarded                                361\n",
        "Turning Improperly                                         604\n",
        "Unsafe Lane Changing                                         5\n",
        "Unsafe Speed                                                19\n",
        "Unspecified                                              57932\n",
        "View Obstructed/Limited                                     95\n",
        "Name: CONTRIBUTING FACTOR VEHICLE 2, dtype: int64"
       ]
      }
     ],
     "prompt_number": 10
    },
    {
     "cell_type": "code",
     "collapsed": false,
     "input": [
      "df.groupby('VEHICLE TYPE CODE 1')['VEHICLE TYPE CODE 1'].count()"
     ],
     "language": "python",
     "metadata": {},
     "outputs": [
      {
       "metadata": {},
       "output_type": "pyout",
       "prompt_number": 11,
       "text": [
        "VEHICLE TYPE CODE 1\n",
        "AMBULANCE                           248\n",
        "BICYCLE                              49\n",
        "BUS                                1485\n",
        "FIRE TRUCK                           93\n",
        "LARGE COM VEH(6 OR MORE TIRES)     1565\n",
        "LIVERY VEHICLE                     1184\n",
        "MOTORCYCLE                          160\n",
        "OTHER                              2571\n",
        "PASSENGER VEHICLE                 42547\n",
        "PEDICAB                               1\n",
        "PICK-UP TRUCK                      1221\n",
        "SCOOTER                              21\n",
        "SMALL COM VEH(4 TIRES)             1352\n",
        "SPORT UTILITY / STATION WAGON     20075\n",
        "TAXI                               3340\n",
        "UNKNOWN                            2271\n",
        "VAN                                2677\n",
        "Name: VEHICLE TYPE CODE 1, dtype: int64"
       ]
      }
     ],
     "prompt_number": 11
    },
    {
     "cell_type": "code",
     "collapsed": false,
     "input": [
      "df.groupby('VEHICLE TYPE CODE 2')['VEHICLE TYPE CODE 2'].count()"
     ],
     "language": "python",
     "metadata": {},
     "outputs": [
      {
       "metadata": {},
       "output_type": "pyout",
       "prompt_number": 12,
       "text": [
        "VEHICLE TYPE CODE 2\n",
        "AMBULANCE                           122\n",
        "BICYCLE                            1012\n",
        "BUS                                1309\n",
        "FIRE TRUCK                           54\n",
        "LARGE COM VEH(6 OR MORE TIRES)     1432\n",
        "LIVERY VEHICLE                      871\n",
        "MOTORCYCLE                          157\n",
        "OTHER                              2432\n",
        "PASSENGER VEHICLE                 32116\n",
        "PEDICAB                               3\n",
        "PICK-UP TRUCK                      1099\n",
        "SCOOTER                              14\n",
        "SMALL COM VEH(4 TIRES)             1366\n",
        "SPORT UTILITY / STATION WAGON     15383\n",
        "TAXI                               2882\n",
        "UNKNOWN                            8929\n",
        "VAN                                2365\n",
        "Name: VEHICLE TYPE CODE 2, dtype: int64"
       ]
      }
     ],
     "prompt_number": 12
    },
    {
     "cell_type": "code",
     "collapsed": false,
     "input": [
      "#normilize by square at least; population\n",
      "byboro = df.groupby('BOROUGH')\n",
      "byboro['NUMBER OF PERSONS INJURED'].count()"
     ],
     "language": "python",
     "metadata": {},
     "outputs": [
      {
       "metadata": {},
       "output_type": "pyout",
       "prompt_number": 13,
       "text": [
        "BOROUGH\n",
        "BRONX             7843\n",
        "BROOKLYN         18942\n",
        "MANHATTAN        15371\n",
        "QUEENS           16125\n",
        "STATEN ISLAND     2427\n",
        "Name: NUMBER OF PERSONS INJURED, dtype: int64"
       ]
      }
     ],
     "prompt_number": 13
    },
    {
     "cell_type": "code",
     "collapsed": false,
     "input": [
      "byboro['NUMBER OF PERSONS KILLED'].count()"
     ],
     "language": "python",
     "metadata": {},
     "outputs": [
      {
       "metadata": {},
       "output_type": "pyout",
       "prompt_number": 14,
       "text": [
        "BOROUGH\n",
        "BRONX             7843\n",
        "BROOKLYN         18942\n",
        "MANHATTAN        15371\n",
        "QUEENS           16125\n",
        "STATEN ISLAND     2427\n",
        "Name: NUMBER OF PERSONS KILLED, dtype: int64"
       ]
      }
     ],
     "prompt_number": 14
    },
    {
     "cell_type": "code",
     "collapsed": false,
     "input": [
      "#normilize by length at least; traffic\n",
      "byonstreet = df.groupby('ON STREET NAME')\n",
      "byonstreet['NUMBER OF PERSONS INJURED'].count()"
     ],
     "language": "python",
     "metadata": {},
     "outputs": [
      {
       "metadata": {},
       "output_type": "pyout",
       "prompt_number": 15,
       "text": [
        "ON STREET NAME\n",
        "1 AVENUE          271\n",
        "1 PLACE             1\n",
        "1 STREET           10\n",
        "10 AVENUE         358\n",
        "10 STREET          12\n",
        "100 AVENUE          6\n",
        "100 DRIVE           1\n",
        "100 STREET         21\n",
        "101 AVENUE         91\n",
        "101 ROAD            1\n",
        "101 STREET         21\n",
        "102 AVENUE          9\n",
        "102 STREET         32\n",
        "103 AVENUE         50\n",
        "103 ROAD            1\n",
        "...\n",
        "WYCKOFF STREET            6\n",
        "WYONA STREET              5\n",
        "WYTHE AVENUE             51\n",
        "WYTHE PLACE               6\n",
        "XENIA STREET              1\n",
        "YATES AVENUE              5\n",
        "YELLOWSTONE BOULEVARD    45\n",
        "YETMAN AVENUE             1\n",
        "YORK AVENUE              90\n",
        "YORK STREET               5\n",
        "YOUNG AVENUE              3\n",
        "ZEISER PLACE              2\n",
        "ZEREGA AVENUE            29\n",
        "ZOE STREET                2\n",
        "ZULETTE AVENUE            5\n",
        "Name: NUMBER OF PERSONS INJURED, Length: 4228, dtype: int64"
       ]
      }
     ],
     "prompt_number": 15
    },
    {
     "cell_type": "code",
     "collapsed": false,
     "input": [
      "byonstreet['NUMBER OF PERSONS KILLED'].count()"
     ],
     "language": "python",
     "metadata": {},
     "outputs": [
      {
       "metadata": {},
       "output_type": "pyout",
       "prompt_number": 16,
       "text": [
        "ON STREET NAME\n",
        "1 AVENUE          271\n",
        "1 PLACE             1\n",
        "1 STREET           10\n",
        "10 AVENUE         358\n",
        "10 STREET          12\n",
        "100 AVENUE          6\n",
        "100 DRIVE           1\n",
        "100 STREET         21\n",
        "101 AVENUE         91\n",
        "101 ROAD            1\n",
        "101 STREET         21\n",
        "102 AVENUE          9\n",
        "102 STREET         32\n",
        "103 AVENUE         50\n",
        "103 ROAD            1\n",
        "...\n",
        "WYCKOFF STREET            6\n",
        "WYONA STREET              5\n",
        "WYTHE AVENUE             51\n",
        "WYTHE PLACE               6\n",
        "XENIA STREET              1\n",
        "YATES AVENUE              5\n",
        "YELLOWSTONE BOULEVARD    45\n",
        "YETMAN AVENUE             1\n",
        "YORK AVENUE              90\n",
        "YORK STREET               5\n",
        "YOUNG AVENUE              3\n",
        "ZEISER PLACE              2\n",
        "ZEREGA AVENUE            29\n",
        "ZOE STREET                2\n",
        "ZULETTE AVENUE            5\n",
        "Name: NUMBER OF PERSONS KILLED, Length: 4228, dtype: int64"
       ]
      }
     ],
     "prompt_number": 16
    },
    {
     "cell_type": "code",
     "collapsed": false,
     "input": [
      "byboro_veh1 = df.groupby(['BOROUGH','VEHICLE TYPE CODE 1'])\n",
      "byboro_veh1['NUMBER OF PERSONS INJURED'].count()[['BRONX','BROOKLYN']]"
     ],
     "language": "python",
     "metadata": {},
     "outputs": [
      {
       "metadata": {},
       "output_type": "pyout",
       "prompt_number": 17,
       "text": [
        "BOROUGH   VEHICLE TYPE CODE 1           \n",
        "BRONX     AMBULANCE                            57\n",
        "          BICYCLE                               5\n",
        "          BUS                                 173\n",
        "          FIRE TRUCK                            9\n",
        "          LARGE COM VEH(6 OR MORE TIRES)      114\n",
        "          LIVERY VEHICLE                      191\n",
        "          MOTORCYCLE                            8\n",
        "          OTHER                               391\n",
        "          PASSENGER VEHICLE                  4289\n",
        "          PICK-UP TRUCK                        79\n",
        "          SCOOTER                               1\n",
        "          SMALL COM VEH(4 TIRES)              117\n",
        "          SPORT UTILITY / STATION WAGON      1716\n",
        "          TAXI                                108\n",
        "          UNKNOWN                             370\n",
        "          VAN                                 209\n",
        "BROOKLYN  AMBULANCE                            60\n",
        "          BICYCLE                              14\n",
        "          BUS                                 365\n",
        "          FIRE TRUCK                           28\n",
        "          LARGE COM VEH(6 OR MORE TIRES)      311\n",
        "          LIVERY VEHICLE                      153\n",
        "          MOTORCYCLE                           37\n",
        "          OTHER                               713\n",
        "          PASSENGER VEHICLE                 10389\n",
        "          PICK-UP TRUCK                       228\n",
        "          SCOOTER                               6\n",
        "          SMALL COM VEH(4 TIRES)              313\n",
        "          SPORT UTILITY / STATION WAGON      4841\n",
        "          TAXI                                271\n",
        "          UNKNOWN                             558\n",
        "          VAN                                 634\n",
        "Name: NUMBER OF PERSONS INJURED, dtype: int64"
       ]
      }
     ],
     "prompt_number": 17
    },
    {
     "cell_type": "code",
     "collapsed": false,
     "input": [
      "byboro_veh1['NUMBER OF PERSONS INJURED'].count()[['MANHATTAN','STATEN ISLAND']]"
     ],
     "language": "python",
     "metadata": {},
     "outputs": [
      {
       "metadata": {},
       "output_type": "pyout",
       "prompt_number": 18,
       "text": [
        "BOROUGH        VEHICLE TYPE CODE 1           \n",
        "MANHATTAN      AMBULANCE                           60\n",
        "               BICYCLE                             20\n",
        "               BUS                                437\n",
        "               FIRE TRUCK                          19\n",
        "               LARGE COM VEH(6 OR MORE TIRES)     391\n",
        "               LIVERY VEHICLE                     454\n",
        "               MOTORCYCLE                          47\n",
        "               OTHER                              596\n",
        "               PASSENGER VEHICLE                 5958\n",
        "               PEDICAB                              1\n",
        "               PICK-UP TRUCK                      353\n",
        "               SCOOTER                              8\n",
        "               SMALL COM VEH(4 TIRES)             459\n",
        "               SPORT UTILITY / STATION WAGON     3082\n",
        "               TAXI                              2267\n",
        "               UNKNOWN                            328\n",
        "               VAN                                836\n",
        "STATEN ISLAND  AMBULANCE                            2\n",
        "               BUS                                 27\n",
        "               FIRE TRUCK                           4\n",
        "               LARGE COM VEH(6 OR MORE TIRES)       4\n",
        "               LIVERY VEHICLE                       3\n",
        "               MOTORCYCLE                           4\n",
        "               OTHER                               57\n",
        "               PASSENGER VEHICLE                 1265\n",
        "               PICK-UP TRUCK                       63\n",
        "               SMALL COM VEH(4 TIRES)               6\n",
        "               SPORT UTILITY / STATION WAGON      878\n",
        "               TAXI                                 1\n",
        "               UNKNOWN                             65\n",
        "               VAN                                 48\n",
        "Name: NUMBER OF PERSONS INJURED, dtype: int64"
       ]
      }
     ],
     "prompt_number": 18
    },
    {
     "cell_type": "code",
     "collapsed": false,
     "input": [
      "byboro_veh1['NUMBER OF PERSONS INJURED'].count()[['QUEENS']]"
     ],
     "language": "python",
     "metadata": {},
     "outputs": [
      {
       "metadata": {},
       "output_type": "pyout",
       "prompt_number": 19,
       "text": [
        "BOROUGH  VEHICLE TYPE CODE 1           \n",
        "QUEENS   AMBULANCE                           28\n",
        "         BICYCLE                              8\n",
        "         BUS                                244\n",
        "         FIRE TRUCK                          15\n",
        "         LARGE COM VEH(6 OR MORE TIRES)     261\n",
        "         LIVERY VEHICLE                     137\n",
        "         MOTORCYCLE                          29\n",
        "         OTHER                              285\n",
        "         PASSENGER VEHICLE                 9210\n",
        "         PICK-UP TRUCK                      191\n",
        "         SCOOTER                              2\n",
        "         SMALL COM VEH(4 TIRES)             204\n",
        "         SPORT UTILITY / STATION WAGON     4341\n",
        "         TAXI                               213\n",
        "         UNKNOWN                            548\n",
        "         VAN                                406\n",
        "Name: NUMBER OF PERSONS INJURED, dtype: int64"
       ]
      }
     ],
     "prompt_number": 19
    },
    {
     "cell_type": "code",
     "collapsed": false,
     "input": [],
     "language": "python",
     "metadata": {},
     "outputs": [],
     "prompt_number": 19
    }
   ],
   "metadata": {}
  }
 ]
}