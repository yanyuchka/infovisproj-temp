{
 "metadata": {
  "name": "",
  "signature": "sha256:42aa86ba24783eb6f8ed72cd41cad9cdea34b3d4a6230f6a124b072542b01354"
 },
 "nbformat": 3,
 "nbformat_minor": 0,
 "worksheets": []
}